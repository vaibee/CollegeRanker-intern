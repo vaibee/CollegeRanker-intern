{
  "cells": [
    {
      "cell_type": "markdown",
      "metadata": {
        "id": "yVE7L7dorP4H"
      },
      "source": [
        "<a id='1'></a><center> <h3 style=\"background-color:orange; color:white\" ><br>Python Basics<br></h3>"
      ]
    },
    {
      "cell_type": "code",
      "execution_count": null,
      "metadata": {
        "colab": {
          "base_uri": "https://localhost:8080/"
        },
        "execution": {
          "iopub.execute_input": "2021-12-13T05:20:57.005459Z",
          "iopub.status.busy": "2021-12-13T05:20:57.005028Z",
          "iopub.status.idle": "2021-12-13T05:20:57.039904Z",
          "shell.execute_reply": "2021-12-13T05:20:57.038882Z",
          "shell.execute_reply.started": "2021-12-13T05:20:57.005334Z"
        },
        "id": "kOtDhbwWrP4I",
        "outputId": "bfb6b6b8-6f02-4366-fa37-31c9df6622ac"
      },
      "outputs": [
        {
          "output_type": "stream",
          "name": "stdout",
          "text": [
            "Vaibhav charan\n"
          ]
        }
      ],
      "source": [
        "# What is your name! print your name! \n",
        "# Only use one print function\n",
        "print(\"Vaibhav Charan\")\n"
      ]
    },
    {
      "cell_type": "markdown",
      "metadata": {
        "id": "kJxHTHrVrP4I"
      },
      "source": [
        "* `()` <= `Parentheses`\n",
        "* `''` <= `Single Quotes`\n",
        "* `\"\"` <= `Double Quotes`\n",
        "* `\\n` <= `New_line `\n",
        "* `#` <= `Used to comment inside code`"
      ]
    },
    {
      "cell_type": "code",
      "execution_count": null,
      "metadata": {
        "execution": {
          "iopub.execute_input": "2021-12-13T05:40:01.121499Z",
          "iopub.status.busy": "2021-12-13T05:40:01.12116Z",
          "iopub.status.idle": "2021-12-13T05:40:01.126402Z",
          "shell.execute_reply": "2021-12-13T05:40:01.125708Z",
          "shell.execute_reply.started": "2021-12-13T05:40:01.121464Z"
        },
        "id": "hqiWhz6srP4K"
      },
      "outputs": [],
      "source": [
        "# define variables named as with values: mukesh=7, z=6, rohan=5, longitude=4\n",
        "mukesh=7\n",
        "z=6\n",
        "rohan=5\n",
        "longitude=4\n"
      ]
    },
    {
      "cell_type": "code",
      "execution_count": null,
      "metadata": {
        "colab": {
          "base_uri": "https://localhost:8080/"
        },
        "execution": {
          "iopub.execute_input": "2021-12-13T05:40:18.616711Z",
          "iopub.status.busy": "2021-12-13T05:40:18.615837Z",
          "iopub.status.idle": "2021-12-13T05:40:18.625081Z",
          "shell.execute_reply": "2021-12-13T05:40:18.624216Z",
          "shell.execute_reply.started": "2021-12-13T05:40:18.616672Z"
        },
        "id": "W77FFVIqrP4K",
        "outputId": "577a7c61-eecf-45ec-be11-c1e659455527"
      },
      "outputs": [
        {
          "output_type": "stream",
          "name": "stdout",
          "text": [
            "5\n"
          ]
        }
      ],
      "source": [
        "# print required variable\n",
        "# output - 5\n",
        "a=5\n",
        "print(a)"
      ]
    },
    {
      "cell_type": "markdown",
      "metadata": {
        "id": "89kwQhu5rP4K"
      },
      "source": [
        "Variable Assignment:\n",
        "**`Variable_Name = Value`**\n",
        "\n",
        "Variables Naming Rules:\n",
        "* `Python is case-senstive` => x=5 is different from X=5 (one is lowe and other is upper case)\n",
        "* `var name can't start with special character except underscore(_)` => _X = 7 is `valid`, @X = 7 is `invalid`\n",
        "* `var name can't start with number` => 9X = 7 is `invalid`, X9 = 7 is `valid`\n",
        "* can't use `keywords` as a variable name\n",
        "    * "
      ]
    },
    {
      "cell_type": "markdown",
      "metadata": {
        "id": "hiYt4qiJrP4K"
      },
      "source": [
        "# **`Declaring a Variable`** <br>\n"
      ]
    },
    {
      "cell_type": "code",
      "execution_count": null,
      "metadata": {
        "execution": {
          "iopub.execute_input": "2021-12-13T05:47:55.408175Z",
          "iopub.status.busy": "2021-12-13T05:47:55.407825Z",
          "iopub.status.idle": "2021-12-13T05:47:55.413447Z",
          "shell.execute_reply": "2021-12-13T05:47:55.412668Z",
          "shell.execute_reply.started": "2021-12-13T05:47:55.40814Z"
        },
        "id": "5pomjoc_rP4L"
      },
      "outputs": [],
      "source": [
        "# declare 4 variables with values as: ur_age 21,ur_weight 50.6, ur_first_name = 'Mukesh',ur_last_name = \"Manral\"\n",
        "ur_age=21\n",
        "ur_weight=50.6\n",
        "ur_first_name='Mukesh'\n",
        "ur_last_name=\"Manral\""
      ]
    },
    {
      "cell_type": "markdown",
      "metadata": {
        "id": "aD6_WvkKrP4L"
      },
      "source": [
        "# **`Data Type(Type of variable)`**"
      ]
    },
    {
      "cell_type": "markdown",
      "metadata": {
        "id": "snzoPkD3rP4L"
      },
      "source": [
        "| Name | Type | Description |\n",
        "| ---- | ---- | ----| \n",
        "|Integers | int | Integer number, like 34,-56 ...|\n",
        "|Float | float | Decimal number, like 3.4,-5.6 ...|\n",
        "|String| str | Ordered sequence of characters, like 'your name' |\n",
        "|Boolean |bool |Logical values indicating True or False only |"
      ]
    },
    {
      "cell_type": "code",
      "execution_count": null,
      "metadata": {
        "colab": {
          "base_uri": "https://localhost:8080/"
        },
        "execution": {
          "iopub.execute_input": "2021-12-13T05:48:10.44207Z",
          "iopub.status.busy": "2021-12-13T05:48:10.441594Z",
          "iopub.status.idle": "2021-12-13T05:48:10.449074Z",
          "shell.execute_reply": "2021-12-13T05:48:10.448114Z",
          "shell.execute_reply.started": "2021-12-13T05:48:10.442018Z"
        },
        "id": "Bb_fmhaOrP4L",
        "outputId": "87c9228c-16d0-4000-e2c3-81a45d1979b3"
      },
      "outputs": [
        {
          "output_type": "stream",
          "name": "stdout",
          "text": [
            "<class 'int'>\n",
            "<class 'float'>\n",
            "<class 'str'>\n",
            "<class 'str'>\n"
          ]
        }
      ],
      "source": [
        "# print type of ur_age,ur_weight,ur_first_name,ur_last_name variables\n",
        "print(type(ur_age))\n",
        "print(type(ur_weight))\n",
        "print(type(ur_first_name))\n",
        "print(type(ur_last_name))\n"
      ]
    },
    {
      "cell_type": "code",
      "execution_count": null,
      "metadata": {
        "colab": {
          "base_uri": "https://localhost:8080/"
        },
        "execution": {
          "iopub.execute_input": "2021-12-13T05:49:37.869716Z",
          "iopub.status.busy": "2021-12-13T05:49:37.86939Z",
          "iopub.status.idle": "2021-12-13T05:49:37.875995Z",
          "shell.execute_reply": "2021-12-13T05:49:37.875066Z",
          "shell.execute_reply.started": "2021-12-13T05:49:37.869681Z"
        },
        "id": "iaADKqUwrP4L",
        "outputId": "801b5e98-bbbb-47ef-c08f-2f509ac455c9"
      },
      "outputs": [
        {
          "output_type": "stream",
          "name": "stdout",
          "text": [
            "21\n",
            "50.6\n",
            "Mukesh\n",
            "Manral\n"
          ]
        }
      ],
      "source": [
        "# print values of ur_age,ur_weight,ur_first_name,ur_last_name variables\n",
        "print(ur_age)\n",
        "print(ur_weight)\n",
        "print(ur_first_name)\n",
        "print(ur_last_name)"
      ]
    },
    {
      "cell_type": "code",
      "execution_count": null,
      "metadata": {
        "execution": {
          "iopub.execute_input": "2021-12-13T05:50:49.32591Z",
          "iopub.status.busy": "2021-12-13T05:50:49.325048Z",
          "iopub.status.idle": "2021-12-13T05:50:49.332343Z",
          "shell.execute_reply": "2021-12-13T05:50:49.331287Z",
          "shell.execute_reply.started": "2021-12-13T05:50:49.325858Z"
        },
        "id": "Hde3D2uQrP4L"
      },
      "outputs": [],
      "source": [
        "# make 2 variables with values as: ur_first_name 'Mukesh',ur_last_name'Mukesh' \n",
        "\n",
        "# make a variable TrueOrFalse which will have comparison of variables ur_last_name == ur_first_name \n",
        "ur_first_name='Mukesh'\n",
        "ur_last_name='Mukesh'\n",
        "TorF=True if ur_last_name==ur_first_name else False"
      ]
    },
    {
      "cell_type": "code",
      "execution_count": null,
      "metadata": {
        "id": "IazJn0nLvX2R"
      },
      "outputs": [],
      "source": []
    },
    {
      "cell_type": "code",
      "execution_count": null,
      "metadata": {
        "execution": {
          "iopub.execute_input": "2021-12-13T06:51:26.536827Z",
          "iopub.status.busy": "2021-12-13T06:51:26.536555Z",
          "iopub.status.idle": "2021-12-13T06:51:26.540484Z",
          "shell.execute_reply": "2021-12-13T06:51:26.539662Z",
          "shell.execute_reply.started": "2021-12-13T06:51:26.536795Z"
        },
        "id": "39JWxM7KrP4M",
        "colab": {
          "base_uri": "https://localhost:8080/"
        },
        "outputId": "630e5af2-0a63-4c8a-aae5-d5c39f9bbb86"
      },
      "outputs": [
        {
          "output_type": "stream",
          "name": "stdout",
          "text": [
            "777\n"
          ]
        }
      ],
      "source": [
        "# define a variable name \"x\" and assign value 777 and print it\n",
        "x=777\n",
        "print(x)"
      ]
    },
    {
      "cell_type": "markdown",
      "metadata": {
        "id": "QXnovK7lrP4M"
      },
      "source": [
        "* To view some data on screen, python have `print` function\n",
        "    * Using `print` function we can control view on output screen\n"
      ]
    },
    {
      "cell_type": "code",
      "execution_count": null,
      "metadata": {
        "id": "Gb36JmWSvX2S"
      },
      "outputs": [],
      "source": []
    },
    {
      "cell_type": "markdown",
      "metadata": {
        "id": "4Wfm35b4rP4P"
      },
      "source": [
        "`Operators`: Symbols that represent mathematical or logical tasks \n",
        "\n",
        "Example:<br>\n",
        "`700` `+` `77`<br>\n",
        "* `+` <= Operator\n",
        "* `700` & `77` <= Operands\n"
      ]
    },
    {
      "cell_type": "code",
      "execution_count": null,
      "metadata": {
        "execution": {
          "iopub.execute_input": "2021-12-13T11:16:12.878107Z",
          "iopub.status.busy": "2021-12-13T11:16:12.87742Z",
          "iopub.status.idle": "2021-12-13T11:16:12.88218Z",
          "shell.execute_reply": "2021-12-13T11:16:12.881502Z",
          "shell.execute_reply.started": "2021-12-13T11:16:12.878061Z"
        },
        "id": "9eHULNrarP4Q"
      },
      "outputs": [],
      "source": [
        "# Initialize variables [x,y,z,zz] with values \n",
        "## x as 7 =>int ,\n",
        "## y as 77 =>int, \n",
        "## z as 77.7 => float, \n",
        "## zz as 'Hi' => string\n",
        "x=7\n",
        "y=77\n",
        "z=77.7\n",
        "zz='Hi'\n"
      ]
    },
    {
      "cell_type": "markdown",
      "metadata": {
        "id": "kMGlbyturP4Q"
      },
      "source": [
        "# **`Arithmetic Operators`**"
      ]
    },
    {
      "cell_type": "code",
      "execution_count": null,
      "metadata": {
        "colab": {
          "base_uri": "https://localhost:8080/"
        },
        "execution": {
          "iopub.execute_input": "2021-12-13T11:16:16.831632Z",
          "iopub.status.busy": "2021-12-13T11:16:16.831361Z",
          "iopub.status.idle": "2021-12-13T11:16:16.837568Z",
          "shell.execute_reply": "2021-12-13T11:16:16.836727Z",
          "shell.execute_reply.started": "2021-12-13T11:16:16.831606Z"
        },
        "id": "_7X7ChdtrP4Q",
        "outputId": "483ecb24-3dd3-4cb6-862a-cd9cccc0f90e"
      },
      "outputs": [
        {
          "output_type": "stream",
          "name": "stdout",
          "text": [
            "84.7\n"
          ]
        }
      ],
      "source": [
        "# add x and z\n",
        "add=x+z\n",
        "print(add)"
      ]
    },
    {
      "cell_type": "code",
      "execution_count": null,
      "metadata": {
        "colab": {
          "base_uri": "https://localhost:8080/"
        },
        "execution": {
          "iopub.execute_input": "2021-12-13T11:16:30.203003Z",
          "iopub.status.busy": "2021-12-13T11:16:30.20271Z",
          "iopub.status.idle": "2021-12-13T11:16:30.208385Z",
          "shell.execute_reply": "2021-12-13T11:16:30.207581Z",
          "shell.execute_reply.started": "2021-12-13T11:16:30.20297Z"
        },
        "id": "VWA9vqXbrP4R",
        "outputId": "f18f16b1-d548-4b7a-b3f9-5f9211198d51"
      },
      "outputs": [
        {
          "output_type": "stream",
          "name": "stdout",
          "text": [
            "0.7000000000000028\n"
          ]
        }
      ],
      "source": [
        "# subtract z and y\n",
        "sub=z-y\n",
        "print(sub)"
      ]
    },
    {
      "cell_type": "code",
      "execution_count": null,
      "metadata": {
        "colab": {
          "base_uri": "https://localhost:8080/"
        },
        "execution": {
          "iopub.execute_input": "2021-12-13T11:16:33.722854Z",
          "iopub.status.busy": "2021-12-13T11:16:33.722346Z",
          "iopub.status.idle": "2021-12-13T11:16:33.727832Z",
          "shell.execute_reply": "2021-12-13T11:16:33.726714Z",
          "shell.execute_reply.started": "2021-12-13T11:16:33.722819Z"
        },
        "id": "Xs-S0MhCrP4R",
        "outputId": "ae9a67ab-b66c-41b2-88cb-b8a4d54b1f42"
      },
      "outputs": [
        {
          "output_type": "stream",
          "name": "stdout",
          "text": [
            "543.9\n"
          ]
        }
      ],
      "source": [
        "# Multiply x and z\n",
        "mul=x*z\n",
        "print(mul)"
      ]
    },
    {
      "cell_type": "code",
      "execution_count": null,
      "metadata": {
        "colab": {
          "base_uri": "https://localhost:8080/"
        },
        "execution": {
          "iopub.status.busy": "2021-12-11T05:18:03.351545Z",
          "iopub.status.idle": "2021-12-11T05:18:03.351958Z",
          "shell.execute_reply": "2021-12-11T05:18:03.351816Z",
          "shell.execute_reply.started": "2021-12-11T05:18:03.3518Z"
        },
        "id": "QTAL9jikrP4R",
        "outputId": "d5bf80c2-c2a8-4bea-e47c-85cd81112537"
      },
      "outputs": [
        {
          "output_type": "stream",
          "name": "stdout",
          "text": [
            "4.614426248242042e+65\n"
          ]
        }
      ],
      "source": [
        "# Exponent (raise the power or times) x times z\n",
        "print(pow(x,z))"
      ]
    },
    {
      "cell_type": "code",
      "execution_count": null,
      "metadata": {
        "colab": {
          "base_uri": "https://localhost:8080/"
        },
        "execution": {
          "iopub.execute_input": "2021-12-13T11:16:54.593185Z",
          "iopub.status.busy": "2021-12-13T11:16:54.592323Z",
          "iopub.status.idle": "2021-12-13T11:16:54.599677Z",
          "shell.execute_reply": "2021-12-13T11:16:54.598843Z",
          "shell.execute_reply.started": "2021-12-13T11:16:54.593129Z"
        },
        "id": "veuOn9YcrP4R",
        "outputId": "a0891fce-be86-430a-bd3c-c7bb1161c9a2"
      },
      "outputs": [
        {
          "output_type": "stream",
          "name": "stdout",
          "text": [
            "0.09009009009009009\n"
          ]
        }
      ],
      "source": [
        "# division on x and z\n",
        "div=x/z\n",
        "print(div)"
      ]
    },
    {
      "cell_type": "markdown",
      "metadata": {
        "id": "lPSllBVYrP4R"
      },
      "source": [
        "`//` => divides and returns integer value of quotient\n",
        "* It will dump digits after decimal"
      ]
    },
    {
      "cell_type": "code",
      "execution_count": null,
      "metadata": {
        "colab": {
          "base_uri": "https://localhost:8080/"
        },
        "execution": {
          "iopub.execute_input": "2021-12-13T11:17:43.712052Z",
          "iopub.status.busy": "2021-12-13T11:17:43.711764Z",
          "iopub.status.idle": "2021-12-13T11:17:43.717685Z",
          "shell.execute_reply": "2021-12-13T11:17:43.716923Z",
          "shell.execute_reply.started": "2021-12-13T11:17:43.712021Z"
        },
        "id": "LjvFNdDHrP4R",
        "outputId": "73ef2114-46dd-4b36-937c-defca1575dab"
      },
      "outputs": [
        {
          "output_type": "stream",
          "name": "stdout",
          "text": [
            "0.0\n"
          ]
        }
      ],
      "source": [
        "# floor division(ignores decimal) on x and z (gives quotient)\n",
        "floorDiv=x//z\n",
        "print(floorDiv)"
      ]
    },
    {
      "cell_type": "code",
      "execution_count": null,
      "metadata": {
        "colab": {
          "base_uri": "https://localhost:8080/"
        },
        "execution": {
          "iopub.execute_input": "2021-12-13T11:18:23.768814Z",
          "iopub.status.busy": "2021-12-13T11:18:23.768469Z",
          "iopub.status.idle": "2021-12-13T11:18:23.774541Z",
          "shell.execute_reply": "2021-12-13T11:18:23.773825Z",
          "shell.execute_reply.started": "2021-12-13T11:18:23.768775Z"
        },
        "id": "prGaXfI2rP4R",
        "outputId": "8717b802-ebbb-410f-f6a9-c3164aeac684"
      },
      "outputs": [
        {
          "output_type": "stream",
          "name": "stdout",
          "text": [
            "7.0\n"
          ]
        }
      ],
      "source": [
        "# Modulo(gives remainder) on x and z\n",
        "print(x%z)\n"
      ]
    },
    {
      "cell_type": "markdown",
      "metadata": {
        "id": "BqiZFRnxrP4R"
      },
      "source": [
        "# **`Comparison Operators`**"
      ]
    },
    {
      "cell_type": "code",
      "execution_count": null,
      "metadata": {
        "colab": {
          "base_uri": "https://localhost:8080/"
        },
        "execution": {
          "iopub.execute_input": "2021-12-13T11:18:53.671899Z",
          "iopub.status.busy": "2021-12-13T11:18:53.671588Z",
          "iopub.status.idle": "2021-12-13T11:18:53.677758Z",
          "shell.execute_reply": "2021-12-13T11:18:53.676944Z",
          "shell.execute_reply.started": "2021-12-13T11:18:53.671852Z"
        },
        "id": "cZTjTlksrP4S",
        "outputId": "13dec722-d105-4b50-8afb-08f3297866c8"
      },
      "outputs": [
        {
          "output_type": "stream",
          "name": "stdout",
          "text": [
            "True\n"
          ]
        }
      ],
      "source": [
        "# comapre and see if x is less then z \n",
        "# can use '<' symbol\n",
        "com=x<z\n",
        "print(com)\n",
        "\n"
      ]
    },
    {
      "cell_type": "code",
      "execution_count": null,
      "metadata": {
        "execution": {
          "iopub.execute_input": "2021-12-13T11:18:56.585807Z",
          "iopub.status.busy": "2021-12-13T11:18:56.585406Z",
          "iopub.status.idle": "2021-12-13T11:18:56.591392Z",
          "shell.execute_reply": "2021-12-13T11:18:56.590675Z",
          "shell.execute_reply.started": "2021-12-13T11:18:56.585775Z"
        },
        "id": "ugLB8T4zrP4S",
        "colab": {
          "base_uri": "https://localhost:8080/"
        },
        "outputId": "ccb7601e-4bce-4c57-85f0-15228b18d6b4"
      },
      "outputs": [
        {
          "output_type": "execute_result",
          "data": {
            "text/plain": [
              "True"
            ]
          },
          "metadata": {},
          "execution_count": 6
        }
      ],
      "source": [
        "# check the type of above comaprison where it says comapre and see if x is less then z \n",
        "type(x<z)\n",
        "x<z\n",
        "\n"
      ]
    },
    {
      "cell_type": "markdown",
      "metadata": {
        "id": "JvyfWt8NrP4S"
      },
      "source": [
        "* `Bool` => takes two values, either `True` or `False`"
      ]
    },
    {
      "cell_type": "code",
      "execution_count": null,
      "metadata": {
        "execution": {
          "iopub.execute_input": "2021-12-13T11:20:21.121906Z",
          "iopub.status.busy": "2021-12-13T11:20:21.121593Z",
          "iopub.status.idle": "2021-12-13T11:20:21.128235Z",
          "shell.execute_reply": "2021-12-13T11:20:21.127415Z",
          "shell.execute_reply.started": "2021-12-13T11:20:21.121858Z"
        },
        "id": "qrLXc7h8rP4S",
        "colab": {
          "base_uri": "https://localhost:8080/"
        },
        "outputId": "b48f6aa9-2ef1-4815-8c57-a27be3ae26d9"
      },
      "outputs": [
        {
          "output_type": "execute_result",
          "data": {
            "text/plain": [
              "True"
            ]
          },
          "metadata": {},
          "execution_count": 7
        }
      ],
      "source": [
        "# compare and see if x is less then or equall to z\n",
        "# can use '<=' symbol\n",
        "x<=z"
      ]
    },
    {
      "cell_type": "code",
      "execution_count": null,
      "metadata": {
        "execution": {
          "iopub.execute_input": "2021-12-13T11:21:03.964669Z",
          "iopub.status.busy": "2021-12-13T11:21:03.964122Z",
          "iopub.status.idle": "2021-12-13T11:21:03.970529Z",
          "shell.execute_reply": "2021-12-13T11:21:03.969911Z",
          "shell.execute_reply.started": "2021-12-13T11:21:03.964617Z"
        },
        "id": "QITa8mAorP4S",
        "colab": {
          "base_uri": "https://localhost:8080/"
        },
        "outputId": "8d05521b-a4b2-4924-fe4b-091b4858f23e"
      },
      "outputs": [
        {
          "output_type": "execute_result",
          "data": {
            "text/plain": [
              "False"
            ]
          },
          "metadata": {},
          "execution_count": 8
        }
      ],
      "source": [
        "# comapre and see if x equall to z\n",
        "# can use '==' symbol\n",
        "x==z"
      ]
    },
    {
      "cell_type": "code",
      "execution_count": null,
      "metadata": {
        "execution": {
          "iopub.execute_input": "2021-12-13T11:21:17.56085Z",
          "iopub.status.busy": "2021-12-13T11:21:17.560326Z",
          "iopub.status.idle": "2021-12-13T11:21:17.566991Z",
          "shell.execute_reply": "2021-12-13T11:21:17.566308Z",
          "shell.execute_reply.started": "2021-12-13T11:21:17.560801Z"
        },
        "id": "to09wf4lrP4S",
        "colab": {
          "base_uri": "https://localhost:8080/"
        },
        "outputId": "60b2e9f0-c4e4-4479-dcc0-f5ac002adf38"
      },
      "outputs": [
        {
          "output_type": "execute_result",
          "data": {
            "text/plain": [
              "False"
            ]
          },
          "metadata": {},
          "execution_count": 9
        }
      ],
      "source": [
        "# comapre and see if x is greater than z\n",
        "# can use '>' symbol\n",
        "x>z"
      ]
    },
    {
      "cell_type": "code",
      "execution_count": null,
      "metadata": {
        "execution": {
          "iopub.status.busy": "2021-12-11T05:18:03.366407Z",
          "iopub.status.idle": "2021-12-11T05:18:03.366829Z",
          "shell.execute_reply": "2021-12-11T05:18:03.366687Z",
          "shell.execute_reply.started": "2021-12-11T05:18:03.36667Z"
        },
        "id": "3XjJEvQmrP4S",
        "colab": {
          "base_uri": "https://localhost:8080/"
        },
        "outputId": "4f7ce8e8-114a-4405-f031-12526cb6a134"
      },
      "outputs": [
        {
          "output_type": "execute_result",
          "data": {
            "text/plain": [
              "False"
            ]
          },
          "metadata": {},
          "execution_count": 10
        }
      ],
      "source": [
        "# comapre and see if x is greater than or equall to z\n",
        "# can use '>=' symbol\n",
        "x>=z"
      ]
    },
    {
      "cell_type": "code",
      "execution_count": null,
      "metadata": {
        "execution": {
          "iopub.execute_input": "2021-12-13T11:21:27.087849Z",
          "iopub.status.busy": "2021-12-13T11:21:27.087572Z",
          "iopub.status.idle": "2021-12-13T11:21:27.094348Z",
          "shell.execute_reply": "2021-12-13T11:21:27.093707Z",
          "shell.execute_reply.started": "2021-12-13T11:21:27.087821Z"
        },
        "id": "U3R4NtLUrP4S",
        "colab": {
          "base_uri": "https://localhost:8080/"
        },
        "outputId": "84ddf735-71d8-47b9-8688-4ee9f924751a"
      },
      "outputs": [
        {
          "output_type": "execute_result",
          "data": {
            "text/plain": [
              "True"
            ]
          },
          "metadata": {},
          "execution_count": 11
        }
      ],
      "source": [
        "# comapre and see if x is Not equall to z\n",
        "# can use '!=' symbol\n",
        "\n",
        "x!=z\n"
      ]
    },
    {
      "cell_type": "markdown",
      "metadata": {
        "id": "i1cSXmgbrP4T"
      },
      "source": [
        "# **`Logical Operators`**"
      ]
    },
    {
      "cell_type": "code",
      "execution_count": null,
      "metadata": {
        "execution": {
          "iopub.execute_input": "2021-12-13T11:22:13.637837Z",
          "iopub.status.busy": "2021-12-13T11:22:13.637267Z",
          "iopub.status.idle": "2021-12-13T11:22:13.644724Z",
          "shell.execute_reply": "2021-12-13T11:22:13.643893Z",
          "shell.execute_reply.started": "2021-12-13T11:22:13.637786Z"
        },
        "id": "qrf5nOLerP4T",
        "colab": {
          "base_uri": "https://localhost:8080/"
        },
        "outputId": "4ed1aa0f-2a54-4716-9e16-821f9df8208a"
      },
      "outputs": [
        {
          "output_type": "execute_result",
          "data": {
            "text/plain": [
              "True"
            ]
          },
          "metadata": {},
          "execution_count": 12
        }
      ],
      "source": [
        "# compare if 108 is equall to 108, 21 is equall to 21 using logical and \n",
        "# equall to => '=='\n",
        "# logical and => and\n",
        "\n",
        "# in and both condition must be True to get a True\n",
        "True if 108 and 108 else False\n",
        "True if 21 and 21 else False"
      ]
    },
    {
      "cell_type": "code",
      "execution_count": null,
      "metadata": {
        "execution": {
          "iopub.execute_input": "2021-12-13T11:22:24.56808Z",
          "iopub.status.busy": "2021-12-13T11:22:24.567356Z",
          "iopub.status.idle": "2021-12-13T11:22:24.576075Z",
          "shell.execute_reply": "2021-12-13T11:22:24.574969Z",
          "shell.execute_reply.started": "2021-12-13T11:22:24.56804Z"
        },
        "id": "Zp51tX7NrP4T",
        "colab": {
          "base_uri": "https://localhost:8080/"
        },
        "outputId": "1ebcb2b7-5aa2-4f31-9756-9e9a95c5f16f"
      },
      "outputs": [
        {
          "output_type": "execute_result",
          "data": {
            "text/plain": [
              "False"
            ]
          },
          "metadata": {},
          "execution_count": 13
        }
      ],
      "source": [
        "# how above condition can give False as output show all those conditions\n",
        "False if 108 and 108 else True\n",
        "False if 21 and 21 else True\n"
      ]
    },
    {
      "cell_type": "code",
      "execution_count": null,
      "metadata": {
        "execution": {
          "iopub.execute_input": "2021-12-13T11:22:39.576213Z",
          "iopub.status.busy": "2021-12-13T11:22:39.575636Z",
          "iopub.status.idle": "2021-12-13T11:22:39.58328Z",
          "shell.execute_reply": "2021-12-13T11:22:39.582673Z",
          "shell.execute_reply.started": "2021-12-13T11:22:39.576179Z"
        },
        "id": "TRMHLAHkrP4T",
        "colab": {
          "base_uri": "https://localhost:8080/"
        },
        "outputId": "9a9d5c4b-9bc6-44f6-af37-e6ccb5760305"
      },
      "outputs": [
        {
          "output_type": "execute_result",
          "data": {
            "text/plain": [
              "True"
            ]
          },
          "metadata": {},
          "execution_count": 14
        }
      ],
      "source": [
        "# compare if 108 is equall to 108, 21 is equall to 11 using logical or\n",
        "# equall to => '=='\n",
        "# logical or => or\n",
        "\n",
        "# in or Only one condition need to be True to get a True\n",
        "True if 108 or 108 else False\n",
        "True if 21 or 21 else False"
      ]
    },
    {
      "cell_type": "code",
      "execution_count": null,
      "metadata": {
        "colab": {
          "base_uri": "https://localhost:8080/"
        },
        "execution": {
          "iopub.execute_input": "2021-12-13T11:22:58.998022Z",
          "iopub.status.busy": "2021-12-13T11:22:58.997422Z",
          "iopub.status.idle": "2021-12-13T11:22:59.004662Z",
          "shell.execute_reply": "2021-12-13T11:22:59.003884Z",
          "shell.execute_reply.started": "2021-12-13T11:22:58.997978Z"
        },
        "id": "QQRfWOkzrP4T",
        "outputId": "c2a466ec-5aa2-4045-a5ef-c2c1be71def8"
      },
      "outputs": [
        {
          "output_type": "execute_result",
          "data": {
            "text/plain": [
              "True"
            ]
          },
          "metadata": {},
          "execution_count": 15
        }
      ],
      "source": [
        "# this is for you to understand it\n",
        "(108 == 108) or (21 == 11) or (108 <= 11)"
      ]
    },
    {
      "cell_type": "code",
      "execution_count": null,
      "metadata": {
        "id": "KpteAyfUvX2b"
      },
      "outputs": [],
      "source": []
    },
    {
      "cell_type": "markdown",
      "metadata": {
        "id": "r5LWKR-irP4T"
      },
      "source": [
        "# **`if`--- `else`** => to handle single condition <br>\n",
        "# **`if`--- `elif`--- `else`** => to handle Multiple condition"
      ]
    },
    {
      "cell_type": "markdown",
      "metadata": {
        "id": "_7lo_XpYrP4U"
      },
      "source": [
        "`Observe in Python code:` \n",
        "* `if` => statement in python\n",
        "* `else` => statement in python\n",
        "* `:` => colon => denotes start of if block i.e. any line written after colon belong to if condition\n",
        "* `....` => see then as indentation i.e. 4 spaces => indentation indicates all code belong to only if and then another indentation indicates code for only else block "
      ]
    },
    {
      "cell_type": "code",
      "execution_count": null,
      "metadata": {
        "execution": {
          "iopub.execute_input": "2021-12-13T12:04:09.255152Z",
          "iopub.status.busy": "2021-12-13T12:04:09.254359Z",
          "iopub.status.idle": "2021-12-13T12:04:09.301228Z",
          "shell.execute_reply": "2021-12-13T12:04:09.300137Z",
          "shell.execute_reply.started": "2021-12-13T12:04:09.254985Z"
        },
        "id": "e2SpODuorP4U",
        "colab": {
          "base_uri": "https://localhost:8080/"
        },
        "outputId": "1fbbc4d4-16eb-4266-ed4b-f60e673ce03a"
      },
      "outputs": [
        {
          "output_type": "execute_result",
          "data": {
            "text/plain": [
              "True"
            ]
          },
          "metadata": {},
          "execution_count": 16
        }
      ],
      "source": [
        "# make variable with value as : money 100000\n",
        "money=100000\n",
        "# see output of money > 2000 \n",
        "True if money>2000 else False"
      ]
    },
    {
      "cell_type": "code",
      "execution_count": null,
      "metadata": {
        "execution": {
          "iopub.execute_input": "2021-12-13T12:04:41.020917Z",
          "iopub.status.busy": "2021-12-13T12:04:41.020562Z",
          "iopub.status.idle": "2021-12-13T12:04:41.027788Z",
          "shell.execute_reply": "2021-12-13T12:04:41.026428Z",
          "shell.execute_reply.started": "2021-12-13T12:04:41.020881Z"
        },
        "id": "8rLKbxCqrP4U",
        "colab": {
          "base_uri": "https://localhost:8080/"
        },
        "outputId": "5478006c-39f8-4676-897a-64a14694f892"
      },
      "outputs": [
        {
          "output_type": "stream",
          "name": "stdout",
          "text": [
            "Data Science course free\n"
          ]
        }
      ],
      "source": [
        "# assign money variable value of 10000\n",
        "##### say you have this much ammount in your account\n",
        "money=10000\n",
        "# start of if condition\n",
        "# if money is greater then 1000 which is data science course free\n",
        "# if money > 1000 is false i.e. you have less money then 1000 in your account then else will work for now only if is working\n",
        "if money>1000:\n",
        "  print(\"Data Science course free\" )\n",
        "else:\n",
        "  print(\"Less money then 1000 in your account\")"
      ]
    },
    {
      "cell_type": "code",
      "execution_count": null,
      "metadata": {
        "execution": {
          "iopub.execute_input": "2021-12-13T12:12:40.145964Z",
          "iopub.status.busy": "2021-12-13T12:12:40.145355Z",
          "iopub.status.idle": "2021-12-13T12:12:45.469908Z",
          "shell.execute_reply": "2021-12-13T12:12:45.469259Z",
          "shell.execute_reply.started": "2021-12-13T12:12:40.145915Z"
        },
        "id": "UkSB0BDKrP4V",
        "colab": {
          "base_uri": "https://localhost:8080/"
        },
        "outputId": "8685b0bc-1388-4265-c69e-1b8a32c2491f"
      },
      "outputs": [
        {
          "output_type": "stream",
          "name": "stdout",
          "text": [
            "Nothing for you\n"
          ]
        }
      ],
      "source": [
        "# take a test_score variable with 80 in it.\n",
        "test_score=80\n",
        "# if test_score greater then 80 then print A grade\n",
        "if test_score>80:\n",
        "  print(\"A grade\")\n",
        "# elif test_score greater then 60 and less then 80 print B grade\n",
        "elif test_score>60 and test_score<80:\n",
        "  print(\"B grade\")\n",
        "# else print Nothing for you\n",
        "else:\n",
        "  print(\"Nothing for you\")"
      ]
    },
    {
      "cell_type": "code",
      "execution_count": null,
      "metadata": {
        "id": "bIlMDtmkvX2c"
      },
      "outputs": [],
      "source": []
    },
    {
      "cell_type": "markdown",
      "metadata": {
        "id": "g2PKEBa3vX2c"
      },
      "source": [
        "# **`Python Loops`**"
      ]
    },
    {
      "cell_type": "code",
      "execution_count": null,
      "metadata": {
        "colab": {
          "base_uri": "https://localhost:8080/",
          "height": 38
        },
        "id": "UsOavUkNrP4X",
        "outputId": "6a576f4b-5655-4091-e59b-722ecdd3f3fb"
      },
      "outputs": [
        {
          "data": {
            "text/plain": [
              "'\\nfor iterating_variable in sequence:\\n    statement(s)\\n'"
            ]
          },
          "execution_count": 39,
          "metadata": {},
          "output_type": "execute_result"
        }
      ],
      "source": [
        "\"\"\"\n",
        "for iterating_variable in sequence:\n",
        "    statement(s)\n",
        "\"\"\""
      ]
    },
    {
      "cell_type": "code",
      "execution_count": null,
      "metadata": {
        "colab": {
          "base_uri": "https://localhost:8080/"
        },
        "execution": {
          "iopub.execute_input": "2021-12-14T05:27:42.974824Z",
          "iopub.status.busy": "2021-12-14T05:27:42.973933Z",
          "iopub.status.idle": "2021-12-14T05:27:42.981157Z",
          "shell.execute_reply": "2021-12-14T05:27:42.980185Z",
          "shell.execute_reply.started": "2021-12-14T05:27:42.97478Z"
        },
        "id": "v3DtstO3rP4X",
        "outputId": "3138dfad-be46-49d8-a0aa-8e74c8855a9d"
      },
      "outputs": [
        {
          "name": "stdout",
          "output_type": "stream",
          "text": [
            "0\n",
            "1\n",
            "2\n",
            "3\n",
            "4\n",
            "5\n",
            "6\n",
            "7\n",
            "8\n",
            "9\n"
          ]
        }
      ],
      "source": [
        "for iterating_variable in range(10):\n",
        "    print(iterating_variable)"
      ]
    },
    {
      "cell_type": "code",
      "execution_count": null,
      "metadata": {
        "execution": {
          "iopub.execute_input": "2021-12-14T05:29:31.818786Z",
          "iopub.status.busy": "2021-12-14T05:29:31.818325Z",
          "iopub.status.idle": "2021-12-14T05:29:31.825965Z",
          "shell.execute_reply": "2021-12-14T05:29:31.82532Z",
          "shell.execute_reply.started": "2021-12-14T05:29:31.818752Z"
        },
        "id": "nD9f1mMwrP4X",
        "colab": {
          "base_uri": "https://localhost:8080/"
        },
        "outputId": "a1702930-e5fa-4a82-f2ca-96b996f730c7"
      },
      "outputs": [
        {
          "output_type": "stream",
          "name": "stdout",
          "text": [
            "I love sports\n",
            "I love sports\n",
            "I love sports\n",
            "I love sports\n",
            "I love sports\n",
            "I love sports\n",
            "I love sports\n",
            "I love sports\n",
            "I love sports\n",
            "I love sports\n"
          ]
        }
      ],
      "source": [
        "# print 'I love sports' 10 times using for loop\n",
        "\n",
        "for i in range(10):\n",
        "  print(\"I love sports\")\n"
      ]
    },
    {
      "cell_type": "markdown",
      "metadata": {
        "id": "F10cQq2RrP4X"
      },
      "source": [
        "`10` => `stoping criteria` of, for loop"
      ]
    },
    {
      "cell_type": "markdown",
      "metadata": {
        "id": "sYmBZqXkrP4X"
      },
      "source": [
        "* `in` => keyword\n",
        "* `sequence` => on which to itterate\n",
        "* `:` => colon , start of for loop"
      ]
    },
    {
      "cell_type": "markdown",
      "metadata": {
        "id": "nR0WJpXwrP4X"
      },
      "source": [
        "`!=` = not equall to => `behaves as a stoping criteria`"
      ]
    },
    {
      "cell_type": "code",
      "execution_count": null,
      "metadata": {
        "colab": {
          "base_uri": "https://localhost:8080/",
          "height": 38
        },
        "execution": {
          "iopub.status.busy": "2021-12-11T05:18:11.230229Z",
          "iopub.status.idle": "2021-12-11T05:18:11.230505Z",
          "shell.execute_reply": "2021-12-11T05:18:11.230373Z",
          "shell.execute_reply.started": "2021-12-11T05:18:11.230358Z"
        },
        "id": "vYJsdLnerP4Y",
        "outputId": "44686682-2f3a-4522-bdf4-84215e4a8f17"
      },
      "outputs": [
        {
          "data": {
            "text/plain": [
              "'\\nwhile comparison:\\n    statements(s)\\n'"
            ]
          },
          "execution_count": 42,
          "metadata": {},
          "output_type": "execute_result"
        }
      ],
      "source": [
        "# Syntax of while loop\n",
        "\"\"\"\n",
        "while comparison:\n",
        "    statements(s)\n",
        "\"\"\""
      ]
    },
    {
      "cell_type": "code",
      "execution_count": null,
      "metadata": {
        "execution": {
          "iopub.execute_input": "2021-12-14T05:32:44.799916Z",
          "iopub.status.busy": "2021-12-14T05:32:44.799592Z",
          "iopub.status.idle": "2021-12-14T05:32:44.807523Z",
          "shell.execute_reply": "2021-12-14T05:32:44.806458Z",
          "shell.execute_reply.started": "2021-12-14T05:32:44.799882Z"
        },
        "id": "No1lV66XrP4Y"
      },
      "outputs": [],
      "source": [
        "# while loop\n",
        " \n",
        "\n",
        "# save 0 in variable number\n",
        "n=0\n",
        "# print till 10 using while loop\n",
        "while n<0:\n",
        "  print(n)\n",
        "  n+=1"
      ]
    },
    {
      "cell_type": "markdown",
      "metadata": {
        "id": "9oFT7qEjrP4Y"
      },
      "source": [
        "* Initialized variable `number = 0` and then increment it's value in each iteration\n",
        "* Loop will only continue to run only if value is less than 10"
      ]
    },
    {
      "cell_type": "markdown",
      "metadata": {
        "id": "ZFHHxSeqrP4Z"
      },
      "source": [
        "# **`Type of Jump Statements`** <br>\n",
        "`Break Statement`\n",
        "`Continue Statement`"
      ]
    },
    {
      "cell_type": "markdown",
      "metadata": {
        "id": "2TlMjfJVrP4a"
      },
      "source": [
        "# **`Break Statement`**\n"
      ]
    },
    {
      "cell_type": "code",
      "execution_count": null,
      "metadata": {
        "execution": {
          "iopub.execute_input": "2021-12-14T09:25:34.60943Z",
          "iopub.status.busy": "2021-12-14T09:25:34.609121Z",
          "iopub.status.idle": "2021-12-14T09:25:34.617876Z",
          "shell.execute_reply": "2021-12-14T09:25:34.616894Z",
          "shell.execute_reply.started": "2021-12-14T09:25:34.609398Z"
        },
        "id": "9E-BFzqUrP4a",
        "colab": {
          "base_uri": "https://localhost:8080/"
        },
        "outputId": "e9d03200-49b6-49c1-d4d8-ff889c17adc1"
      },
      "outputs": [
        {
          "output_type": "stream",
          "name": "stdout",
          "text": [
            "The number is 0\n",
            "The number is 1\n",
            "The number is 2\n",
            "The number is 3\n",
            "The number is 4\n"
          ]
        }
      ],
      "source": [
        "# example that uses break statement in a for loop\n",
        "\n",
        "# take range(10) and print 'The number is' + value\n",
        "# break when num equals 5\n",
        "for i in range(10):\n",
        "  if i==5:\n",
        "    break\n",
        "  print('The number is ' + str(i))"
      ]
    },
    {
      "cell_type": "markdown",
      "metadata": {
        "id": "oPN-KW8ErP4a"
      },
      "source": [
        "# **`Continue Statement`**\n"
      ]
    },
    {
      "cell_type": "code",
      "execution_count": null,
      "metadata": {
        "execution": {
          "iopub.execute_input": "2021-12-14T06:14:44.160916Z",
          "iopub.status.busy": "2021-12-14T06:14:44.160579Z",
          "iopub.status.idle": "2021-12-14T06:14:44.169578Z",
          "shell.execute_reply": "2021-12-14T06:14:44.168622Z",
          "shell.execute_reply.started": "2021-12-14T06:14:44.160884Z"
        },
        "id": "I7RGHGcDrP4a",
        "colab": {
          "base_uri": "https://localhost:8080/"
        },
        "outputId": "36a8f39c-7569-4784-8564-938f5df3b8c4"
      },
      "outputs": [
        {
          "output_type": "stream",
          "name": "stdout",
          "text": [
            "The number is 0\n",
            "The number is 1\n",
            "The number is 2\n",
            "The number is 3\n",
            "The number is 4\n",
            "The number is 6\n",
            "The number is 7\n",
            "The number is 8\n",
            "The number is 9\n"
          ]
        }
      ],
      "source": [
        "# Using same `for loop program` as in Break Statement section above\n",
        "# Use a continue statement rather than a break statement\n",
        "\n",
        "# take range(10) and print 'The number is' + value\n",
        "# continue when num equals 5\n",
        "for i in range(10):\n",
        "  if i==5:\n",
        "    continue\n",
        "  print('The number is ' + str(i))"
      ]
    },
    {
      "cell_type": "code",
      "execution_count": null,
      "metadata": {
        "id": "Kv39hHTMvX2f"
      },
      "outputs": [],
      "source": []
    },
    {
      "cell_type": "markdown",
      "metadata": {
        "id": "PMmen0JyrP4r"
      },
      "source": [
        "# **`String Manipulation`**"
      ]
    },
    {
      "cell_type": "code",
      "execution_count": null,
      "metadata": {
        "id": "8J1dpy6rrP4r"
      },
      "outputs": [],
      "source": [
        "string_ = '' or \"\" or \"\"\" \"\"\""
      ]
    },
    {
      "cell_type": "code",
      "execution_count": null,
      "metadata": {
        "execution": {
          "iopub.execute_input": "2021-12-13T11:01:34.238451Z",
          "iopub.status.busy": "2021-12-13T11:01:34.238169Z",
          "iopub.status.idle": "2021-12-13T11:01:34.244158Z",
          "shell.execute_reply": "2021-12-13T11:01:34.243186Z",
          "shell.execute_reply.started": "2021-12-13T11:01:34.238418Z"
        },
        "id": "P4TiJEQCrP4s"
      },
      "outputs": [],
      "source": [
        "# define a string variable with \"We are creating next generation data science eco-system at CollegeRanker\"\n",
        "string=\"We are creating next generation data science eco-system at CollegeRanker\"\n"
      ]
    },
    {
      "cell_type": "code",
      "execution_count": null,
      "metadata": {
        "execution": {
          "iopub.execute_input": "2021-12-13T11:01:34.958307Z",
          "iopub.status.busy": "2021-12-13T11:01:34.957656Z",
          "iopub.status.idle": "2021-12-13T11:01:34.963401Z",
          "shell.execute_reply": "2021-12-13T11:01:34.96252Z",
          "shell.execute_reply.started": "2021-12-13T11:01:34.958266Z"
        },
        "id": "Ujfo-CHZrP4s",
        "colab": {
          "base_uri": "https://localhost:8080/"
        },
        "outputId": "59cd8a32-0ba1-4795-aeae-164630949f0d"
      },
      "outputs": [
        {
          "output_type": "execute_result",
          "data": {
            "text/plain": [
              "72"
            ]
          },
          "metadata": {},
          "execution_count": 13
        }
      ],
      "source": [
        "# Find length of string including spaces\n",
        "len(string)\n"
      ]
    },
    {
      "cell_type": "code",
      "execution_count": null,
      "metadata": {
        "execution": {
          "iopub.execute_input": "2021-12-13T11:01:42.029037Z",
          "iopub.status.busy": "2021-12-13T11:01:42.028477Z",
          "iopub.status.idle": "2021-12-13T11:01:42.035886Z",
          "shell.execute_reply": "2021-12-13T11:01:42.035025Z",
          "shell.execute_reply.started": "2021-12-13T11:01:42.02899Z"
        },
        "id": "huRY2kW4rP4s",
        "colab": {
          "base_uri": "https://localhost:8080/",
          "height": 35
        },
        "outputId": "d451d106-8d17-4d3e-80a1-eec29e989f7f"
      },
      "outputs": [
        {
          "output_type": "execute_result",
          "data": {
            "text/plain": [
              "'W'"
            ],
            "application/vnd.google.colaboratory.intrinsic+json": {
              "type": "string"
            }
          },
          "metadata": {},
          "execution_count": 14
        }
      ],
      "source": [
        "# Access characters in a string with indexing i.e string[0]\n",
        "\n",
        "string[0]"
      ]
    },
    {
      "cell_type": "code",
      "execution_count": null,
      "metadata": {
        "execution": {
          "iopub.execute_input": "2021-12-13T11:01:54.758166Z",
          "iopub.status.busy": "2021-12-13T11:01:54.757886Z",
          "iopub.status.idle": "2021-12-13T11:01:54.76332Z",
          "shell.execute_reply": "2021-12-13T11:01:54.762662Z",
          "shell.execute_reply.started": "2021-12-13T11:01:54.758136Z"
        },
        "id": "ynPqdSYdrP4s",
        "colab": {
          "base_uri": "https://localhost:8080/",
          "height": 35
        },
        "outputId": "364dcef0-f19f-452a-d00c-1c5ba52dc575"
      },
      "outputs": [
        {
          "output_type": "execute_result",
          "data": {
            "text/plain": [
              "'r'"
            ],
            "application/vnd.google.colaboratory.intrinsic+json": {
              "type": "string"
            }
          },
          "metadata": {},
          "execution_count": 15
        }
      ],
      "source": [
        "# Access characters with negative indexing i.e string[-1]\n",
        "\n",
        "string[-1]"
      ]
    },
    {
      "cell_type": "markdown",
      "metadata": {
        "id": "O9VaefTGrP4s"
      },
      "source": [
        "# String Slicing"
      ]
    },
    {
      "cell_type": "code",
      "execution_count": null,
      "metadata": {
        "execution": {
          "iopub.execute_input": "2021-12-13T11:02:05.078251Z",
          "iopub.status.busy": "2021-12-13T11:02:05.077467Z",
          "iopub.status.idle": "2021-12-13T11:02:05.08393Z",
          "shell.execute_reply": "2021-12-13T11:02:05.083137Z",
          "shell.execute_reply.started": "2021-12-13T11:02:05.078214Z"
        },
        "id": "ry8spVYHrP4s",
        "colab": {
          "base_uri": "https://localhost:8080/",
          "height": 35
        },
        "outputId": "32d38acb-fcd0-422e-b5ff-4e9ec146e74d"
      },
      "outputs": [
        {
          "output_type": "execute_result",
          "data": {
            "text/plain": [
              "'We are'"
            ],
            "application/vnd.google.colaboratory.intrinsic+json": {
              "type": "string"
            }
          },
          "metadata": {},
          "execution_count": 16
        }
      ],
      "source": [
        "# select string from first to 6th element i.e string[:6]\n",
        "\n",
        "\n",
        "string[:6]"
      ]
    },
    {
      "cell_type": "code",
      "execution_count": null,
      "metadata": {
        "execution": {
          "iopub.execute_input": "2021-12-13T11:02:17.092026Z",
          "iopub.status.busy": "2021-12-13T11:02:17.091514Z",
          "iopub.status.idle": "2021-12-13T11:02:17.098478Z",
          "shell.execute_reply": "2021-12-13T11:02:17.097041Z",
          "shell.execute_reply.started": "2021-12-13T11:02:17.091993Z"
        },
        "id": "9yyS6grLrP4s"
      },
      "outputs": [],
      "source": [
        "# select string from 7th to negative 10th element i.e string[7:-10]\n",
        "\n",
        "string[7:-10]"
      ]
    },
    {
      "cell_type": "markdown",
      "metadata": {
        "id": "IE-m76lwrP4s"
      },
      "source": [
        "Count of a particular `character` in a string"
      ]
    },
    {
      "cell_type": "code",
      "execution_count": null,
      "metadata": {
        "execution": {
          "iopub.execute_input": "2021-12-13T11:02:32.813513Z",
          "iopub.status.busy": "2021-12-13T11:02:32.813226Z",
          "iopub.status.idle": "2021-12-13T11:02:32.820308Z",
          "shell.execute_reply": "2021-12-13T11:02:32.819443Z",
          "shell.execute_reply.started": "2021-12-13T11:02:32.813481Z"
        },
        "id": "036-jd2TrP4s",
        "colab": {
          "base_uri": "https://localhost:8080/"
        },
        "outputId": "de391fa0-e2e6-4af7-ebb3-9d42befdf07a"
      },
      "outputs": [
        {
          "output_type": "execute_result",
          "data": {
            "text/plain": [
              "7"
            ]
          },
          "metadata": {},
          "execution_count": 17
        }
      ],
      "source": [
        "string.count('a')\n",
        "\n"
      ]
    },
    {
      "cell_type": "markdown",
      "metadata": {
        "id": "6BhlvAFmrP4s"
      },
      "source": [
        "Count of a particular `sub-string` in a string "
      ]
    },
    {
      "cell_type": "code",
      "execution_count": null,
      "metadata": {
        "execution": {
          "iopub.execute_input": "2021-12-13T11:02:46.68983Z",
          "iopub.status.busy": "2021-12-13T11:02:46.689548Z",
          "iopub.status.idle": "2021-12-13T11:02:46.696782Z",
          "shell.execute_reply": "2021-12-13T11:02:46.69582Z",
          "shell.execute_reply.started": "2021-12-13T11:02:46.6898Z"
        },
        "id": "pzaxuLCarP4s",
        "colab": {
          "base_uri": "https://localhost:8080/"
        },
        "outputId": "8968f9fb-ef68-4c6c-a6ef-d227463c6e9a"
      },
      "outputs": [
        {
          "output_type": "execute_result",
          "data": {
            "text/plain": [
              "4"
            ]
          },
          "metadata": {},
          "execution_count": 18
        }
      ],
      "source": [
        "\n",
        "string.count(\"at\")\n"
      ]
    },
    {
      "cell_type": "markdown",
      "metadata": {
        "id": "gbyWCeAwrP4s"
      },
      "source": [
        "Find a substring in string using `find` and `index` function"
      ]
    },
    {
      "cell_type": "code",
      "execution_count": null,
      "metadata": {
        "execution": {
          "iopub.execute_input": "2021-12-13T11:03:44.010815Z",
          "iopub.status.busy": "2021-12-13T11:03:44.010507Z",
          "iopub.status.idle": "2021-12-13T11:03:44.017299Z",
          "shell.execute_reply": "2021-12-13T11:03:44.016185Z",
          "shell.execute_reply.started": "2021-12-13T11:03:44.010781Z"
        },
        "id": "tfFcaCXxrP4t",
        "colab": {
          "base_uri": "https://localhost:8080/"
        },
        "outputId": "61871184-dd75-4465-f8ce-cfd0c1560963"
      },
      "outputs": [
        {
          "output_type": "stream",
          "name": "stdout",
          "text": [
            "16\n",
            "16\n"
          ]
        }
      ],
      "source": [
        "# .find() => if present it will return starting index, not found then it will return -1\n",
        "# .index() => if present it will return starting index, not found then it will give error\n",
        "\n",
        "print(string.find('next'))\n",
        "print(string.index('next'))\n"
      ]
    },
    {
      "cell_type": "code",
      "execution_count": null,
      "metadata": {
        "execution": {
          "iopub.execute_input": "2021-12-13T11:04:48.605999Z",
          "iopub.status.busy": "2021-12-13T11:04:48.605575Z",
          "iopub.status.idle": "2021-12-13T11:04:48.611854Z",
          "shell.execute_reply": "2021-12-13T11:04:48.611143Z",
          "shell.execute_reply.started": "2021-12-13T11:04:48.605962Z"
        },
        "id": "QK6TfpWyrP4t",
        "colab": {
          "base_uri": "https://localhost:8080/"
        },
        "outputId": "a4c6120c-23a3-40a8-c22c-49989f12d5fb"
      },
      "outputs": [
        {
          "output_type": "stream",
          "name": "stdout",
          "text": [
            "True\n",
            "False\n",
            "True\n"
          ]
        }
      ],
      "source": [
        "### Checking whether string `startswith` or `endswith` a particular substring or not\n",
        "\n",
        "print(string.startswith('W'))\n",
        "print(string.endswith('a'))\n",
        "print(string.endswith('r'))"
      ]
    },
    {
      "cell_type": "code",
      "execution_count": null,
      "metadata": {
        "execution": {
          "iopub.execute_input": "2021-12-13T11:05:06.532097Z",
          "iopub.status.busy": "2021-12-13T11:05:06.531667Z",
          "iopub.status.idle": "2021-12-13T11:05:06.53704Z",
          "shell.execute_reply": "2021-12-13T11:05:06.536136Z",
          "shell.execute_reply.started": "2021-12-13T11:05:06.532065Z"
        },
        "id": "KEUqKWYqrP4t"
      },
      "outputs": [],
      "source": [
        "\n"
      ]
    },
    {
      "cell_type": "code",
      "execution_count": null,
      "metadata": {
        "execution": {
          "iopub.execute_input": "2021-12-13T11:05:29.695055Z",
          "iopub.status.busy": "2021-12-13T11:05:29.694529Z",
          "iopub.status.idle": "2021-12-13T11:05:29.700213Z",
          "shell.execute_reply": "2021-12-13T11:05:29.699432Z",
          "shell.execute_reply.started": "2021-12-13T11:05:29.695023Z"
        },
        "id": "LpEf2Vi_rP4t",
        "colab": {
          "base_uri": "https://localhost:8080/",
          "height": 35
        },
        "outputId": "eaf5a638-924d-4690-acca-d99e6abc4930"
      },
      "outputs": [
        {
          "output_type": "execute_result",
          "data": {
            "text/plain": [
              "'WE ARE CREATING NEXT GENERATION DATA SCIENCE ECO-SYSTEM AT COLLEGERANKER'"
            ],
            "application/vnd.google.colaboratory.intrinsic+json": {
              "type": "string"
            }
          },
          "metadata": {},
          "execution_count": 21
        }
      ],
      "source": [
        "### Converting string to upper case ###\n",
        "\n",
        "string.upper()"
      ]
    },
    {
      "cell_type": "code",
      "execution_count": null,
      "metadata": {
        "execution": {
          "iopub.execute_input": "2021-12-13T11:05:43.600499Z",
          "iopub.status.busy": "2021-12-13T11:05:43.599994Z",
          "iopub.status.idle": "2021-12-13T11:05:43.605902Z",
          "shell.execute_reply": "2021-12-13T11:05:43.604859Z",
          "shell.execute_reply.started": "2021-12-13T11:05:43.600462Z"
        },
        "id": "C-lc1BM5rP4t",
        "colab": {
          "base_uri": "https://localhost:8080/",
          "height": 35
        },
        "outputId": "429bde18-3306-4104-cd0c-ceafd5826f94"
      },
      "outputs": [
        {
          "output_type": "execute_result",
          "data": {
            "text/plain": [
              "'We are creating next generation data science eco-system at collegeranker'"
            ],
            "application/vnd.google.colaboratory.intrinsic+json": {
              "type": "string"
            }
          },
          "metadata": {},
          "execution_count": 22
        }
      ],
      "source": [
        "### Converting only first character of string to upper case\n",
        "string.capitalize()\n"
      ]
    },
    {
      "cell_type": "code",
      "execution_count": null,
      "metadata": {
        "execution": {
          "iopub.execute_input": "2021-12-13T11:06:19.800912Z",
          "iopub.status.busy": "2021-12-13T11:06:19.800396Z",
          "iopub.status.idle": "2021-12-13T11:06:19.806627Z",
          "shell.execute_reply": "2021-12-13T11:06:19.805745Z",
          "shell.execute_reply.started": "2021-12-13T11:06:19.800858Z"
        },
        "id": "eUfso5gHrP4t",
        "colab": {
          "base_uri": "https://localhost:8080/"
        },
        "outputId": "8805c50c-bbc3-4d9e-d59f-92727d7fa7d1"
      },
      "outputs": [
        {
          "output_type": "execute_result",
          "data": {
            "text/plain": [
              "False"
            ]
          },
          "metadata": {},
          "execution_count": 23
        }
      ],
      "source": [
        "### Checking if string is in lower case or upper case\n",
        "string.islower()\n"
      ]
    },
    {
      "cell_type": "code",
      "execution_count": null,
      "metadata": {
        "execution": {
          "iopub.execute_input": "2021-12-13T11:07:14.639468Z",
          "iopub.status.busy": "2021-12-13T11:07:14.639007Z",
          "iopub.status.idle": "2021-12-13T11:07:14.645717Z",
          "shell.execute_reply": "2021-12-13T11:07:14.644712Z",
          "shell.execute_reply.started": "2021-12-13T11:07:14.639422Z"
        },
        "id": "4KJ8oYacrP4t",
        "colab": {
          "base_uri": "https://localhost:8080/"
        },
        "outputId": "985fb117-6356-4d98-b64f-7423b1d06144"
      },
      "outputs": [
        {
          "output_type": "execute_result",
          "data": {
            "text/plain": [
              "False"
            ]
          },
          "metadata": {},
          "execution_count": 24
        }
      ],
      "source": [
        "### Checking if string is digit, alpabetic, alpha-numeric\n",
        "\n",
        "string.isdigit()\n",
        "string.isalpha()\n",
        "string.isalnum()\n"
      ]
    },
    {
      "cell_type": "code",
      "execution_count": null,
      "metadata": {
        "execution": {
          "iopub.execute_input": "2021-12-13T11:08:59.303427Z",
          "iopub.status.busy": "2021-12-13T11:08:59.302982Z",
          "iopub.status.idle": "2021-12-13T11:08:59.310259Z",
          "shell.execute_reply": "2021-12-13T11:08:59.309168Z",
          "shell.execute_reply.started": "2021-12-13T11:08:59.303392Z"
        },
        "id": "SGBdMJeurP4u"
      },
      "outputs": [],
      "source": [
        "# assign \"C++ is easy to learn\" to a new_str variable\n",
        "new_str=\"C++ is easy to learn\"\n"
      ]
    },
    {
      "cell_type": "code",
      "execution_count": null,
      "metadata": {
        "execution": {
          "iopub.execute_input": "2021-12-13T11:09:12.005822Z",
          "iopub.status.busy": "2021-12-13T11:09:12.005323Z",
          "iopub.status.idle": "2021-12-13T11:09:12.012082Z",
          "shell.execute_reply": "2021-12-13T11:09:12.011148Z",
          "shell.execute_reply.started": "2021-12-13T11:09:12.005782Z"
        },
        "id": "o3IMBWfqrP4u",
        "colab": {
          "base_uri": "https://localhost:8080/",
          "height": 35
        },
        "outputId": "fac75221-a63b-4c85-c602-afb1c5c7c071"
      },
      "outputs": [
        {
          "output_type": "execute_result",
          "data": {
            "text/plain": [
              "'Python is easy to learn'"
            ],
            "application/vnd.google.colaboratory.intrinsic+json": {
              "type": "string"
            }
          },
          "metadata": {},
          "execution_count": 26
        }
      ],
      "source": [
        "### Replace C++ with Python\n",
        "\n",
        "new_str.replace(\"C++\",\"Python\")"
      ]
    },
    {
      "cell_type": "code",
      "execution_count": null,
      "metadata": {
        "execution": {
          "iopub.execute_input": "2021-12-13T11:09:37.127736Z",
          "iopub.status.busy": "2021-12-13T11:09:37.127294Z",
          "iopub.status.idle": "2021-12-13T11:09:37.133848Z",
          "shell.execute_reply": "2021-12-13T11:09:37.133093Z",
          "shell.execute_reply.started": "2021-12-13T11:09:37.127695Z"
        },
        "id": "himKDrvcrP4u",
        "colab": {
          "base_uri": "https://localhost:8080/"
        },
        "outputId": "3ec2b8f2-7490-4576-ab24-6cc3669e8154"
      },
      "outputs": [
        {
          "output_type": "execute_result",
          "data": {
            "text/plain": [
              "['C++', 'is', 'easy', 'to', 'learn']"
            ]
          },
          "metadata": {},
          "execution_count": 27
        }
      ],
      "source": [
        "### Use Split function on new_str ###\n",
        "new_str.split()\n",
        "\n"
      ]
    },
    {
      "cell_type": "markdown",
      "metadata": {
        "execution": {
          "iopub.execute_input": "2021-12-13T11:09:45.285163Z",
          "iopub.status.busy": "2021-12-13T11:09:45.284668Z",
          "iopub.status.idle": "2021-12-13T11:09:45.291474Z",
          "shell.execute_reply": "2021-12-13T11:09:45.290548Z",
          "shell.execute_reply.started": "2021-12-13T11:09:45.285128Z"
        },
        "id": "cCDcaUzHrP4u",
        "outputId": "26c9046b-e3f3-41c5-ab4a-051bbf4bf5f5"
      },
      "source": [
        "# **`Python Functions`**"
      ]
    },
    {
      "cell_type": "code",
      "execution_count": null,
      "metadata": {
        "colab": {
          "base_uri": "https://localhost:8080/",
          "height": 38
        },
        "execution": {
          "iopub.execute_input": "2021-12-14T10:18:36.097257Z",
          "iopub.status.busy": "2021-12-14T10:18:36.096956Z",
          "iopub.status.idle": "2021-12-14T10:18:36.102958Z",
          "shell.execute_reply": "2021-12-14T10:18:36.102283Z",
          "shell.execute_reply.started": "2021-12-14T10:18:36.097225Z"
        },
        "id": "4jqkxfNdrP4z",
        "outputId": "a232eae4-3829-4a38-cb4f-bc0e36d3ecf2"
      },
      "outputs": [
        {
          "data": {
            "text/plain": [
              "'\\ndef function_name():\\n    stetement(s)\\n'"
            ]
          },
          "execution_count": 76,
          "metadata": {},
          "output_type": "execute_result"
        }
      ],
      "source": [
        "\"\"\"\n",
        "def function_name():\n",
        "    stetement(s)\n",
        "\"\"\""
      ]
    },
    {
      "cell_type": "code",
      "execution_count": null,
      "metadata": {
        "execution": {
          "iopub.execute_input": "2021-12-14T10:41:22.778938Z",
          "iopub.status.busy": "2021-12-14T10:41:22.778217Z",
          "iopub.status.idle": "2021-12-14T10:41:22.783295Z",
          "shell.execute_reply": "2021-12-14T10:41:22.782386Z",
          "shell.execute_reply.started": "2021-12-14T10:41:22.778903Z"
        },
        "id": "L8OCfOyPrP4z",
        "colab": {
          "base_uri": "https://localhost:8080/",
          "height": 35
        },
        "outputId": "e4d730cf-d431-4962-bc7e-249c7d8797ed"
      },
      "outputs": [
        {
          "output_type": "execute_result",
          "data": {
            "text/plain": [
              "'Welcome to Functions!!!'"
            ],
            "application/vnd.google.colaboratory.intrinsic+json": {
              "type": "string"
            }
          },
          "metadata": {},
          "execution_count": 28
        }
      ],
      "source": [
        "# define a function with welcome_message(name) and body 'Welcome to Functions !!!'\n",
        "def welcome_message(name):\n",
        "  return name\n",
        "welcome_message(\"Welcome to Functions!!!\")\n",
        " "
      ]
    },
    {
      "cell_type": "code",
      "execution_count": null,
      "metadata": {
        "execution": {
          "iopub.execute_input": "2021-12-14T10:41:28.898798Z",
          "iopub.status.busy": "2021-12-14T10:41:28.89826Z",
          "iopub.status.idle": "2021-12-14T10:41:28.902844Z",
          "shell.execute_reply": "2021-12-14T10:41:28.902223Z",
          "shell.execute_reply.started": "2021-12-14T10:41:28.898763Z"
        },
        "id": "asBr2ewErP4z",
        "colab": {
          "base_uri": "https://localhost:8080/",
          "height": 35
        },
        "outputId": "2ff92e2d-8d86-4fcf-c4bb-91c35c089961"
      },
      "outputs": [
        {
          "output_type": "execute_result",
          "data": {
            "text/plain": [
              "'Vaibhav'"
            ],
            "application/vnd.google.colaboratory.intrinsic+json": {
              "type": "string"
            }
          },
          "metadata": {},
          "execution_count": 29
        }
      ],
      "source": [
        "# call a function with your name\n",
        "welcome_message(\"Vaibhav\")\n"
      ]
    },
    {
      "cell_type": "markdown",
      "metadata": {
        "id": "YKfp2X2irP4z"
      },
      "source": [
        "* `def` Keyword marking start of function\n",
        "* `function name` to uniquely identify function\n",
        "    * `function naming` follows same `rules of writing identifiers`\n",
        "* `parameters`(arguments) to pass values to a function => totally optional\n",
        "* `()` paranthesis\n",
        "* `colon (:)` start of function\n",
        "* `documentation string`(docstring) describe's what function does => totally optional\n",
        "* `return statement` returns a value from function => totally optional\n",
        "* inside colon is `function definition` it should always be present before function call or get an error"
      ]
    },
    {
      "cell_type": "code",
      "execution_count": null,
      "metadata": {
        "execution": {
          "iopub.execute_input": "2021-12-14T10:46:10.134296Z",
          "iopub.status.busy": "2021-12-14T10:46:10.133283Z",
          "iopub.status.idle": "2021-12-14T10:46:10.138594Z",
          "shell.execute_reply": "2021-12-14T10:46:10.137987Z",
          "shell.execute_reply.started": "2021-12-14T10:46:10.134236Z"
        },
        "id": "TbWL-gm-rP4z",
        "colab": {
          "base_uri": "https://localhost:8080/"
        },
        "outputId": "32b49ee7-dea4-451d-a677-91868d06f0be"
      },
      "outputs": [
        {
          "output_type": "execute_result",
          "data": {
            "text/plain": [
              "7"
            ]
          },
          "metadata": {},
          "execution_count": 30
        }
      ],
      "source": [
        "# Write a function to add two number which are as 3 and 4\n",
        "# in total variable store adition of 3 + 4\n",
        "# print total variable \n",
        "def add(a,b):\n",
        "  return a+b\n",
        "add(3,4)\n"
      ]
    },
    {
      "cell_type": "markdown",
      "metadata": {
        "id": "JzTJaFZirP41"
      },
      "source": [
        "# ***`Positional Arguments`*** \n",
        "Most arguments are identified by their position in function call\n",
        "* Say `print(x,y)` will give different results from `print(y,x)`\n",
        "\n",
        "What ever sequence is given while defining a function values must be taken in that sequence only\n",
        "* Otherwise use argument name **`(keyword arguments)`** to take values\n",
        "* We first define `positional argument` and then `keyword arguments`\n"
      ]
    },
    {
      "cell_type": "code",
      "execution_count": null,
      "metadata": {
        "execution": {
          "iopub.execute_input": "2021-12-11T10:24:26.570469Z",
          "iopub.status.busy": "2021-12-11T10:24:26.570183Z",
          "iopub.status.idle": "2021-12-11T10:24:26.574882Z",
          "shell.execute_reply": "2021-12-11T10:24:26.574072Z",
          "shell.execute_reply.started": "2021-12-11T10:24:26.570434Z"
        },
        "id": "LpgDIWcYrP41"
      },
      "outputs": [],
      "source": [
        "## Create substraction_function(small_number,large_number) and return difference between large_number and small_number\n",
        "\n",
        "def substraction_function(x,y):\n",
        "  if x>y:\n",
        "    return x-y\n",
        "  else:\n",
        "    return y-x"
      ]
    },
    {
      "cell_type": "code",
      "execution_count": null,
      "metadata": {
        "execution": {
          "iopub.execute_input": "2021-12-11T10:26:55.88569Z",
          "iopub.status.busy": "2021-12-11T10:26:55.88516Z",
          "iopub.status.idle": "2021-12-11T10:26:55.890293Z",
          "shell.execute_reply": "2021-12-11T10:26:55.889589Z",
          "shell.execute_reply.started": "2021-12-11T10:26:55.885652Z"
        },
        "id": "AX6Ku1j9rP41"
      },
      "outputs": [],
      "source": [
        "# pass arguments in right order\n",
        "\n",
        "def substraction_function(small_number,large_number):\n",
        "  return a,b"
      ]
    },
    {
      "cell_type": "code",
      "execution_count": null,
      "metadata": {
        "execution": {
          "iopub.execute_input": "2021-12-11T10:27:51.964287Z",
          "iopub.status.busy": "2021-12-11T10:27:51.963803Z",
          "iopub.status.idle": "2021-12-11T10:27:51.969195Z",
          "shell.execute_reply": "2021-12-11T10:27:51.968619Z",
          "shell.execute_reply.started": "2021-12-11T10:27:51.964251Z"
        },
        "id": "zSWT96GurP41",
        "colab": {
          "base_uri": "https://localhost:8080/",
          "height": 206
        },
        "outputId": "d230b232-7c29-4c93-8ec6-4cd1cae1d2d3"
      },
      "outputs": [
        {
          "output_type": "error",
          "ename": "NameError",
          "evalue": "ignored",
          "traceback": [
            "\u001b[0;31m---------------------------------------------------------------------------\u001b[0m",
            "\u001b[0;31mNameError\u001b[0m                                 Traceback (most recent call last)",
            "\u001b[0;32m<ipython-input-38-4347e4bdf103>\u001b[0m in \u001b[0;36m<module>\u001b[0;34m\u001b[0m\n\u001b[1;32m      1\u001b[0m \u001b[0;31m# always pass arguments using there name(keyword arguments) then order does not matter\u001b[0m\u001b[0;34m\u001b[0m\u001b[0;34m\u001b[0m\u001b[0;34m\u001b[0m\u001b[0m\n\u001b[0;32m----> 2\u001b[0;31m \u001b[0;32mdef\u001b[0m \u001b[0msubstraction_function\u001b[0m\u001b[0;34m(\u001b[0m\u001b[0ma\u001b[0m\u001b[0;34m=\u001b[0m\u001b[0mx\u001b[0m\u001b[0;34m,\u001b[0m\u001b[0mb\u001b[0m\u001b[0;34m=\u001b[0m\u001b[0my\u001b[0m\u001b[0;34m)\u001b[0m\u001b[0;34m:\u001b[0m\u001b[0;34m\u001b[0m\u001b[0;34m\u001b[0m\u001b[0m\n\u001b[0m\u001b[1;32m      3\u001b[0m   \u001b[0;32mreturn\u001b[0m \u001b[0ma\u001b[0m\u001b[0;34m,\u001b[0m\u001b[0mb\u001b[0m\u001b[0;34m\u001b[0m\u001b[0;34m\u001b[0m\u001b[0m\n",
            "\u001b[0;31mNameError\u001b[0m: name 'x' is not defined"
          ]
        }
      ],
      "source": [
        "# always pass arguments using there name(keyword arguments) then order does not matter\n",
        "def substraction_function(a=x,b=y):\n",
        "  return a,b\n"
      ]
    },
    {
      "cell_type": "code",
      "execution_count": null,
      "metadata": {
        "id": "mnEsCcHGvX2k"
      },
      "outputs": [],
      "source": []
    },
    {
      "cell_type": "markdown",
      "metadata": {
        "id": "_NUdf1OsrP42"
      },
      "source": [
        "# ***`Scope of Variables`*** means that part of program where we can access particular variable\n",
        "* `Local Variable` => variables defined inside a function and can be only accessed from inside of that particular function\n",
        "* `Global Variable` => variables defined outside a function and can be accessed throughout program\n",
        "\n",
        "Let's define a global variable, `\"global_variable\"` outside function\n",
        "* We will return its value using a function `\"randome_function\"` and see that we would be able to access its value using that function also"
      ]
    },
    {
      "cell_type": "code",
      "execution_count": null,
      "metadata": {
        "execution": {
          "iopub.execute_input": "2021-12-11T11:00:38.758741Z",
          "iopub.status.busy": "2021-12-11T11:00:38.758474Z",
          "iopub.status.idle": "2021-12-11T11:00:38.762182Z",
          "shell.execute_reply": "2021-12-11T11:00:38.761618Z",
          "shell.execute_reply.started": "2021-12-11T11:00:38.758716Z"
        },
        "id": "e0BDQ-ccrP42"
      },
      "outputs": [],
      "source": [
        "#### Observe every output from here onwords #####\n",
        "# defining a global variable\n",
        "global_variable = 'variable outside of function'\n",
        "\n",
        "# defining function\n",
        "def random_function():\n",
        "    # accessing variable which is outside of this function\n",
        "    return global_variable"
      ]
    },
    {
      "cell_type": "code",
      "execution_count": null,
      "metadata": {
        "colab": {
          "base_uri": "https://localhost:8080/",
          "height": 35
        },
        "execution": {
          "iopub.execute_input": "2021-12-11T11:00:58.33357Z",
          "iopub.status.busy": "2021-12-11T11:00:58.33313Z",
          "iopub.status.idle": "2021-12-11T11:00:58.337597Z",
          "shell.execute_reply": "2021-12-11T11:00:58.337038Z",
          "shell.execute_reply.started": "2021-12-11T11:00:58.333513Z"
        },
        "id": "2hYmUr5BrP42",
        "outputId": "c590ba56-cf5f-4c09-ed7a-8d14e0370418"
      },
      "outputs": [
        {
          "output_type": "execute_result",
          "data": {
            "text/plain": [
              "'changing variable outside of function from inside of function'"
            ],
            "application/vnd.google.colaboratory.intrinsic+json": {
              "type": "string"
            }
          },
          "metadata": {},
          "execution_count": 42
        }
      ],
      "source": [
        "random_function()"
      ]
    },
    {
      "cell_type": "markdown",
      "metadata": {
        "id": "w7AB55isrP42"
      },
      "source": [
        "`See we can acess the data of golbal variable from Inside of the Function`\n",
        "\n",
        "# **`=> Let's see what will happen if we try to change value of global variable from Inside of the Function`**"
      ]
    },
    {
      "cell_type": "code",
      "execution_count": null,
      "metadata": {
        "execution": {
          "iopub.execute_input": "2021-12-11T11:08:27.657115Z",
          "iopub.status.busy": "2021-12-11T11:08:27.656836Z",
          "iopub.status.idle": "2021-12-11T11:08:27.661916Z",
          "shell.execute_reply": "2021-12-11T11:08:27.661004Z",
          "shell.execute_reply.started": "2021-12-11T11:08:27.657086Z"
        },
        "id": "1cOFox6FrP43"
      },
      "outputs": [],
      "source": [
        "#### Observe every output from here onwords #####\n",
        "# defining a global variable\n",
        "global_variable = 'variable outside of function'\n",
        "\n",
        "# defining function\n",
        "def random_function():\n",
        "    # changing value of global variable from inside of the function\n",
        "    global_variable = 'changing variable outside of function from inside of function'\n",
        "    # accessing variable which is outside of this function\n",
        "    return global_variable"
      ]
    },
    {
      "cell_type": "code",
      "execution_count": null,
      "metadata": {
        "colab": {
          "base_uri": "https://localhost:8080/"
        },
        "execution": {
          "iopub.execute_input": "2021-12-11T11:32:36.29647Z",
          "iopub.status.busy": "2021-12-11T11:32:36.296167Z",
          "iopub.status.idle": "2021-12-11T11:32:36.300653Z",
          "shell.execute_reply": "2021-12-11T11:32:36.30002Z",
          "shell.execute_reply.started": "2021-12-11T11:32:36.29644Z"
        },
        "id": "8ScwL6OUrP43",
        "outputId": "10929351-d8d3-40f3-b16a-e42af58c44b2"
      },
      "outputs": [
        {
          "output_type": "stream",
          "name": "stdout",
          "text": [
            "changing variable outside of function from inside of function\n",
            "variable outside of function\n"
          ]
        }
      ],
      "source": [
        "print(random_function())\n",
        "print(global_variable)"
      ]
    },
    {
      "cell_type": "code",
      "execution_count": null,
      "metadata": {
        "id": "H-M3TMz-vX2l"
      },
      "outputs": [],
      "source": []
    },
    {
      "cell_type": "code",
      "execution_count": null,
      "metadata": {
        "id": "rDF9Ii7SvX2m"
      },
      "outputs": [],
      "source": []
    }
  ],
  "metadata": {
    "colab": {
      "provenance": []
    },
    "kernelspec": {
      "display_name": "Python 3",
      "language": "python",
      "name": "python3"
    },
    "language_info": {
      "codemirror_mode": {
        "name": "ipython",
        "version": 3
      },
      "file_extension": ".py",
      "mimetype": "text/x-python",
      "name": "python",
      "nbconvert_exporter": "python",
      "pygments_lexer": "ipython3",
      "version": "3.7.4"
    }
  },
  "nbformat": 4,
  "nbformat_minor": 0
}